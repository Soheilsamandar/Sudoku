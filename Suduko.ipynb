{
 "cells": [
  {
   "cell_type": "markdown",
   "metadata": {},
   "source": [
    "### Suduko Solver"
   ]
  },
  {
   "cell_type": "code",
   "execution_count": 7,
   "metadata": {},
   "outputs": [],
   "source": [
    "class SudukoSolver:\n",
    "    def __init__(self,board):\n",
    "        self.board = board\n",
    "        self.size = 9\n",
    "        self.empty_cell = 0\n",
    "\n",
    "    def is_valid(self,row,col,num):\n",
    "        for i in range(self.size):\n",
    "            if self.board[row][i]==num or self.board[i][col]==num:\n",
    "                return False\n",
    "        start_row ,start_col = (row//3)*3 , (col//3)*3\n",
    "        for i in range(3):\n",
    "            for j in range(3):\n",
    "                if self.board[start_row+i][start_col+j]==num:\n",
    "                    return False\n",
    "        return True\n",
    "    \n",
    "    def solve(self):\n",
    "        for row in range(self.size):\n",
    "            for col in range(self.size):\n",
    "                if self.board[row][col]==self.empty_cell:\n",
    "                    for num in range(1,10):\n",
    "                        if self.is_valid(row,col,num):\n",
    "                            self.board[row][col]=num\n",
    "                            if self.solve():\n",
    "                                return True\n",
    "                            self.board[row][col]= self.empty_cell\n",
    "                    return False\n",
    "        return True\n",
    "    \n",
    "    def print_board(self):\n",
    "        for row in self.board:\n",
    "            print(' '.join(str(num) if num != 0 else \".\" for num in row))\n"
   ]
  },
  {
   "cell_type": "code",
   "execution_count": 8,
   "metadata": {},
   "outputs": [
    {
     "name": "stdout",
     "output_type": "stream",
     "text": [
      "1 4 8 7 6 2 9 3 5\n",
      "6 7 3 9 5 1 8 4 2\n",
      "2 5 9 4 3 8 1 6 7\n",
      "9 2 7 1 8 3 6 5 4\n",
      "5 8 6 2 4 9 3 7 1\n",
      "3 1 4 5 7 6 2 8 9\n",
      "4 6 1 3 2 5 7 9 8\n",
      "7 3 2 8 9 4 5 1 6\n",
      "8 9 5 6 1 7 4 2 3\n"
     ]
    }
   ],
   "source": [
    "table =[[1,0,0,0,6,0,0,0,0],\n",
    "        [0,0,3,9,0,1,0,4,0],\n",
    "        [2,0,0,0,0,0,0,0,7],\n",
    "        [0,0,0,0,8,0,0,5,0],\n",
    "        [0,0,6,0,4,0,0,0,0],\n",
    "        [3,0,0,5,0,6,2,0,0],\n",
    "        [0,0,1,3,0,5,0,9,0],\n",
    "        [0,0,0,8,0,0,0,0,0],\n",
    "        [0,9,5,0,0,0,4,0,3]]\n",
    "\n",
    "\n",
    "solver = SudukoSolver(table)\n",
    "if solver.solve():\n",
    "    solver.print_board()\n",
    "else:\n",
    "    print('NO solution exists')"
   ]
  }
 ],
 "metadata": {
  "kernelspec": {
   "display_name": "Python 3",
   "language": "python",
   "name": "python3"
  },
  "language_info": {
   "codemirror_mode": {
    "name": "ipython",
    "version": 3
   },
   "file_extension": ".py",
   "mimetype": "text/x-python",
   "name": "python",
   "nbconvert_exporter": "python",
   "pygments_lexer": "ipython3",
   "version": "3.8.10"
  }
 },
 "nbformat": 4,
 "nbformat_minor": 2
}
